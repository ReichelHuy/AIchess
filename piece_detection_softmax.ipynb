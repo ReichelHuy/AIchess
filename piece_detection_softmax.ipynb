{
 "cells": [
  {
   "cell_type": "code",
   "execution_count": 1,
   "metadata": {},
   "outputs": [],
   "source": [
    "import tensorflow as tf\n",
    "import numpy as np\n",
    "import PIL\n",
    "import glob\n",
    "from IPython.display import clear_output, Image, display\n",
    "\n",
    "np.set_printoptions(precision=2, suppress=True)\n",
    "\n",
    "\n",
    "def display_array(a, rng=[0,255]):\n",
    "    a = (a - rng[0])/float(rng[1] - rng[0])*255\n",
    "    a = np.uint8(np.clip(a, 0, 255))\n",
    "    display(PIL.Image.fromarray(a))"
   ]
  },
  {
   "cell_type": "code",
   "execution_count": 2,
   "metadata": {},
   "outputs": [],
   "source": [
    "# Given a fen string and a rank (number) and file (letter), return label vector\n",
    "def get_label(fen,rank,file):\n",
    "    l2i = lambda l:  ord(l)-ord('A') # letter to index\n",
    "    file = 8-file # FEN has order backwards\n",
    "    piece_letter = fen[file*8 + file + l2i(rank)]\n",
    "    #label = np.zeros(13, dtype=np.uint8)\n",
    "    label = '1KQRBNPkqrbnp'.find(piece_letter)\n",
    "    # note the 1 instead of ' ' due to FEN notation\n",
    "    # We ignore shorter FENs with numbers > 1 because we generate the FENs ourselves\n",
    "    return label\n",
    "\n",
    "\n",
    "# Load Tiles with FEN string in filename for labels return both images and labels\n",
    "def load_tiles(image_filepaths):\n",
    "    # Each tile is a 32x32 grayscale image, add extra axis for working with MNIST Data format\n",
    "    images = np.zeros([image_filepaths.size, 32, 32], dtype=np.uint8)\n",
    "    labels = np.zeros([image_filepaths.size], dtype=np.uint8)\n",
    "\n",
    "    for i, image_filepath in enumerate(image_filepaths):\n",
    "        fen = image_filepath[-78:-7]\n",
    "        rank = image_filepath[-6]\n",
    "        file = int(image_filepath[-5]) \n",
    "\n",
    "        images[i,:,:] = np.asarray(PIL.Image.open(image_filepath), dtype=np.uint8)\n",
    "        labels[i] = get_label(fen, rank, file)\n",
    "    print(\"Done\")\n",
    "    return images, labels"
   ]
  },
  {
   "cell_type": "code",
   "execution_count": 3,
   "metadata": {},
   "outputs": [
    {
     "name": "stdout",
     "output_type": "stream",
     "text": [
      "Loading 2649 Training tiles\n",
      "Done\n",
      "Loading 295 Testing tiles\n",
      "Done\n"
     ]
    }
   ],
   "source": [
    "# All tiles with pieces in random organizations\n",
    "all_paths = np.array(glob.glob(\"train_tiles/*/*.png\"))\n",
    "\n",
    "# Shuffle order of paths so when we split the train/test sets the order of files doesn't affect it\n",
    "np.random.shuffle(all_paths)\n",
    "\n",
    "# split data into train/test\n",
    "\n",
    "ratio = 0.9 # split ratio\n",
    "divider = int(len(all_paths) * ratio)\n",
    "train_paths = all_paths[:divider]\n",
    "test_paths = all_paths[divider:]\n",
    "\n",
    "print(f\"Loading {train_paths.size} Training tiles\")\n",
    "train_images, train_labels = load_tiles(train_paths)\n",
    "\n",
    "print(f\"Loading {test_paths.size} Testing tiles\")\n",
    "test_images, test_labels = load_tiles(test_paths)"
   ]
  },
  {
   "cell_type": "code",
   "execution_count": 4,
   "metadata": {},
   "outputs": [
    {
     "name": "stdout",
     "output_type": "stream",
     "text": [
      "682: Piece(b)\n"
     ]
    },
    {
     "data": {
      "image/png": "[encoded data removed]",
      "text/plain": [
       "<PIL.Image.Image image mode=L size=32x32 at 0x10F82F370>"
      ]
     },
     "metadata": {},
     "output_type": "display_data"
    },
    {
     "name": "stdout",
     "output_type": "stream",
     "text": [
      "989: Piece(K)\n"
     ]
    },
    {
     "data": {
      "image/png": "[encoded data removed]",
      "text/plain": [
       "<PIL.Image.Image image mode=L size=32x32 at 0x141629BB0>"
      ]
     },
     "metadata": {},
     "output_type": "display_data"
    },
    {
     "name": "stdout",
     "output_type": "stream",
     "text": [
      "2017: Piece(r)\n"
     ]
    },
    {
     "data": {
      "image/png": "[encoded data removed]",
      "text/plain": [
       "<PIL.Image.Image image mode=L size=32x32 at 0x141629A90>"
      ]
     },
     "metadata": {},
     "output_type": "display_data"
    },
    {
     "name": "stdout",
     "output_type": "stream",
     "text": [
      "420: Piece(Q)\n"
     ]
    },
    {
     "data": {
      "image/png": "[encoded data removed]",
      "text/plain": [
       "<PIL.Image.Image image mode=L size=32x32 at 0x141629BE0>"
      ]
     },
     "metadata": {},
     "output_type": "display_data"
    },
    {
     "name": "stdout",
     "output_type": "stream",
     "text": [
      "1692: Piece(K)\n"
     ]
    },
    {
     "data": {
      "image/png": "[encoded data removed]",
      "text/plain": [
       "<PIL.Image.Image image mode=L size=32x32 at 0x10F82F370>"
      ]
     },
     "metadata": {},
     "output_type": "display_data"
    }
   ],
   "source": [
    "# Convert label index into name of piece\n",
    "def labelIndex2Name(label_index):\n",
    "    return ' KQRBNPkqrbnp'[label_index]\n",
    "\n",
    "\n",
    "# Convert label vector into name of piece\n",
    "def label2Name(label):\n",
    "    return labelIndex2Name(label.argmax())\n",
    "\n",
    "\n",
    "# check some of the labels\n",
    "for i in np.random.choice(len(train_images), 5, replace=False):\n",
    "    print(f\"{i}: Piece({labelIndex2Name(train_labels[i])})\")\n",
    "    display_array(train_images[i,:,:])\n",
    "    "
   ]
  },
  {
   "cell_type": "code",
   "execution_count": 5,
   "metadata": {},
   "outputs": [
    {
     "name": "stdout",
     "output_type": "stream",
     "text": [
      "[[0.86 0.86 0.86 ... 0.86 0.86 0.86]\n",
      " [0.86 0.86 0.86 ... 0.86 0.86 0.86]\n",
      " [0.86 0.86 0.86 ... 0.86 0.86 0.86]\n",
      " ...\n",
      " [0.86 0.86 0.86 ... 0.86 0.86 0.86]\n",
      " [0.86 0.86 0.86 ... 0.86 0.86 0.86]\n",
      " [0.86 0.86 0.86 ... 0.86 0.86 0.86]]\n"
     ]
    }
   ],
   "source": [
    "# Normalize Images\n",
    "\n",
    "train_norm_images = np.zeros([len(train_images), 32, 32], dtype=np.float64)\n",
    "test_norm_images = np.zeros([len(test_images), 32, 32], dtype=np.float64)\n",
    "\n",
    "for i in range(len(train_images)):\n",
    "    train_norm_images[i,:,:] = train_images[i,:,:] / 255.0\n",
    "\n",
    "for i in range(len(test_images)):\n",
    "    test_norm_images[i,:,:] = test_images[i,:,:] / 255.0\n",
    "    \n",
    "print(train_norm_images[0,:,:])"
   ]
  },
  {
   "cell_type": "code",
   "execution_count": 6,
   "metadata": {},
   "outputs": [
    {
     "name": "stdout",
     "output_type": "stream",
     "text": [
      "6\n"
     ]
    }
   ],
   "source": [
    "print(train_labels[0])"
   ]
  },
  {
   "cell_type": "code",
   "execution_count": 7,
   "metadata": {},
   "outputs": [
    {
     "name": "stdout",
     "output_type": "stream",
     "text": [
      "Model: \"sequential\"\n",
      "_________________________________________________________________\n",
      "Layer (type)                 Output Shape              Param #   \n",
      "=================================================================\n",
      "flatten (Flatten)            (None, 1024)              0         \n",
      "_________________________________________________________________\n",
      "dense (Dense)                (None, 128)               131200    \n",
      "_________________________________________________________________\n",
      "dense_1 (Dense)              (None, 13)                1677      \n",
      "=================================================================\n",
      "Total params: 132,877\n",
      "Trainable params: 132,877\n",
      "Non-trainable params: 0\n",
      "_________________________________________________________________\n"
     ]
    }
   ],
   "source": [
    "# Build our keras neural net\n",
    "model = tf.keras.models.Sequential([tf.keras.layers.Flatten(input_shape=(32, 32)),  \n",
    "                                    tf.keras.layers.Dense(128, activation = tf.nn.relu),  \n",
    "                                    tf.keras.layers.Dense(13, activation = tf.nn.softmax)])\n",
    "\n",
    "model.compile(optimizer='adam', \n",
    "              loss = tf.keras.losses.SparseCategoricalCrossentropy(from_logits=True),\n",
    "              metrics =['accuracy'])\n",
    "\n",
    "model.summary()"
   ]
  },
  {
   "cell_type": "code",
   "execution_count": 8,
   "metadata": {},
   "outputs": [
    {
     "name": "stdout",
     "output_type": "stream",
     "text": [
      "Epoch 1/10\n",
      "83/83 [==============================] - 0s 2ms/step - loss: 2.1925 - accuracy: 0.5157\n",
      "Epoch 2/10\n",
      "83/83 [==============================] - 0s 2ms/step - loss: 1.8557 - accuracy: 0.8494\n",
      "Epoch 3/10\n",
      "83/83 [==============================] - 0s 1ms/step - loss: 1.8377 - accuracy: 0.8494\n",
      "Epoch 4/10\n",
      "83/83 [==============================] - 0s 1ms/step - loss: 1.8039 - accuracy: 0.8852\n",
      "Epoch 5/10\n",
      "83/83 [==============================] - 0s 1ms/step - loss: 1.7647 - accuracy: 0.9226\n",
      "Epoch 6/10\n",
      "83/83 [==============================] - 0s 3ms/step - loss: 1.7374 - accuracy: 0.9536\n",
      "Epoch 7/10\n",
      "83/83 [==============================] - 0s 3ms/step - loss: 1.6900 - accuracy: 1.0000\n",
      "Epoch 8/10\n",
      "83/83 [==============================] - 0s 2ms/step - loss: 1.6896 - accuracy: 1.0000\n",
      "Epoch 9/10\n",
      "83/83 [==============================] - 0s 2ms/step - loss: 1.6895 - accuracy: 1.0000\n",
      "Epoch 10/10\n",
      "83/83 [==============================] - 0s 2ms/step - loss: 1.6894 - accuracy: 1.0000\n"
     ]
    },
    {
     "data": {
      "text/plain": [
       "<tensorflow.python.keras.callbacks.History at 0x1417bb730>"
      ]
     },
     "execution_count": 8,
     "metadata": {},
     "output_type": "execute_result"
    }
   ],
   "source": [
    "model.fit(train_norm_images, train_labels, epochs = 10) "
   ]
  },
  {
   "cell_type": "code",
   "execution_count": 9,
   "metadata": {},
   "outputs": [
    {
     "name": "stdout",
     "output_type": "stream",
     "text": [
      "10/10 - 0s - loss: 1.6894 - accuracy: 1.0000\n",
      "Test accuracy: 1.0\n"
     ]
    }
   ],
   "source": [
    "test_loss, test_acc = model.evaluate(test_norm_images,  test_labels, verbose=2)\n",
    "print('Test accuracy:', test_acc)"
   ]
  },
  {
   "cell_type": "code",
   "execution_count": 11,
   "metadata": {},
   "outputs": [
    {
     "name": "stdout",
     "output_type": "stream",
     "text": [
      "INFO:tensorflow:Assets written to: models/softmax_v1/assets\n"
     ]
    }
   ],
   "source": [
    "model.save('models/softmax_v1')"
   ]
  },
  {
   "cell_type": "code",
   "execution_count": null,
   "metadata": {},
   "outputs": [],
   "source": []
  }
 ],
 "metadata": {
  "kernelspec": {
   "display_name": "Python 3",
   "language": "python",
   "name": "python3"
  },
  "language_info": {
   "codemirror_mode": {
    "name": "ipython",
    "version": 3
   },
   "file_extension": ".py",
   "mimetype": "text/x-python",
   "name": "python",
   "nbconvert_exporter": "python",
   "pygments_lexer": "ipython3",
   "version": "3.8.5"
  }
 },
 "nbformat": 4,
 "nbformat_minor": 4
}
